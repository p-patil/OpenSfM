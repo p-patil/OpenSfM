{
 "cells": [
  {
   "cell_type": "code",
   "execution_count": null,
   "metadata": {
    "collapsed": false
   },
   "outputs": [],
   "source": [
    "import numpy as np\n",
    "import os, sys, cv2\n",
    "import matplotlib.pyplot as plt\n",
    "import json\n",
    "sys.path.append(\"../../\")\n",
    "from opensfm import dataset\n",
    "reload(dataset)\n",
    "\n",
    "args = {}\n",
    "#args[\"dataset\"] = \"../../data/nexar_dup\"\n",
    "args[\"dataset\"] = \"../../data/47fa6807-46b4-4121-848b-beb291cc2d60/\"\n",
    "\n",
    "data = dataset.DataSet(args[\"dataset\"])\n",
    "images = data.images()"
   ]
  },
  {
   "cell_type": "code",
   "execution_count": null,
   "metadata": {
    "collapsed": true
   },
   "outputs": [],
   "source": [
    "reconstructions = data.load_reconstruction()"
   ]
  },
  {
   "cell_type": "code",
   "execution_count": null,
   "metadata": {
    "collapsed": false
   },
   "outputs": [],
   "source": [
    "# global flags\n",
    "relative_seg_path = \"output/results/joint/\"\n",
    "\n",
    "assert len(reconstructions) == 1, \"reconstruction falls into several parts\"\n",
    "# get a bunch of 3D locations indicated by those points\n",
    "graph = data.load_tracks_graph()"
   ]
  },
  {
   "cell_type": "code",
   "execution_count": null,
   "metadata": {
    "collapsed": true
   },
   "outputs": [],
   "source": [
    "import random\n",
    "import numpy as np\n",
    "\n",
    "class plane(object):\n",
    "    def add_1col(self, points):\n",
    "        points = np.array(points)\n",
    "        npoints = points.shape[0]\n",
    "        points = np.concatenate((points, np.ones((npoints, 1))), axis=1)\n",
    "        return points\n",
    "\n",
    "    def __init__(self, points):\n",
    "        points = self.add_1col(points)\n",
    "        #t0 = time.time()\n",
    "        corre = np.dot(points.T, points)\n",
    "        W, U = np.linalg.eigh(corre)\n",
    "        U = np.fliplr(U)\n",
    "        #U0, s, V = np.linalg.svd(points.T)\n",
    "        #global timet\n",
    "        #timet += time.time()-t0 \n",
    "        self.coeff = U[:, -1]\n",
    "        self.coeff = np.reshape(self.coeff, (1,4))\n",
    "        \n",
    "    def error(self, points):\n",
    "        # calculate the RMSE of these points, relative to the plane\n",
    "        points = self.add_1col(points)\n",
    "        residual = np.dot(self.coeff, points.T)\n",
    "        return np.sqrt(np.mean(residual**2))\n",
    "    \n",
    "    def error_singles(self, points):\n",
    "        points = self.add_1col(points)\n",
    "        residual = np.dot(self.coeff, points.T)\n",
    "        residual = np.reshape(residual, (-1))\n",
    "        return np.abs(residual)\n",
    "        \n",
    "def ransac(points, maxIter, threshold, minN, goodN):\n",
    "    t0 = time.time()\n",
    "    bestfit = None\n",
    "    besterr = 1e9\n",
    "    inliers = None\n",
    "\n",
    "    points = np.array(points)\n",
    "    n = points.shape[0]\n",
    "    if n <= goodN:\n",
    "        print(\"too less points\")\n",
    "        return None, None\n",
    "        \n",
    "    for i in range(maxIter):\n",
    "        maybeInliers = random.sample(range(n), minN)\n",
    "        maybeModel = plane(points[maybeInliers, :])\n",
    "        allInliers = maybeModel.error_singles(points) < threshold\n",
    "        \n",
    "        if allInliers.sum() > goodN:\n",
    "            hyp_points = points[allInliers,:]\n",
    "            betterModel = plane(hyp_points)\n",
    "            thiserror = betterModel.error(hyp_points)\n",
    "            if thiserror < besterr:\n",
    "                inliers = allInliers\n",
    "                besterr = thiserror\n",
    "                bestfit = betterModel\n",
    "    \n",
    "    print(\"best error is %f, with %d inliers, out of %d total (%f second)\" % \n",
    "          (besterr, inliers.sum(), n, time.time()-t0))\n",
    "    return bestfit, inliers"
   ]
  },
  {
   "cell_type": "code",
   "execution_count": null,
   "metadata": {
    "collapsed": false,
    "scrolled": false
   },
   "outputs": [],
   "source": [
    "from mpl_toolkits.mplot3d import Axes3D\n",
    "import time\n",
    "%matplotlib notebook\n",
    "dists = []\n",
    "\n",
    "for shot_id in sorted(reconstructions[0].shots.keys(), reverse=True):\n",
    "    t1 = time.time()\n",
    "    print(shot_id)\n",
    "    # 1. load the current camera center location\n",
    "    shot = reconstructions[0].shots[shot_id]\n",
    "    pose = shot.pose\n",
    "    camera_loc = pose.get_origin()\n",
    "    \n",
    "    # 2. calculate the current scale\n",
    "    # load all keypoints and filter out the road\n",
    "    p1, f1, c1 = data.load_features(shot_id)\n",
    "    ind = data.filter_by_seg(shot_id, p1, lambda x: x==0, relative_seg_path)\n",
    "    if True:\n",
    "        # visualize filtered feature points\n",
    "        ot = np.array(p1[ind, :2])\n",
    "        im = data.image_as_array(shot_id)\n",
    "        plt.imshow(im)\n",
    "        plt.plot(640+ot[:,0]*1280, 360+ot[:,1]*1280, 'ro')    \n",
    "        plt.show()\n",
    "        break\n",
    "    road_keypoint_ids = np.array(range(len(ind)))[ind]\n",
    "    \n",
    "    # convert 2D points to 3D track ids\n",
    "    track_ids, selected = dataset.observations_to_tracks(graph, shot_id, road_keypoint_ids, p1)\n",
    "    if len(track_ids) < 15:\n",
    "        print(\"too less points\")\n",
    "        dists.append(None)\n",
    "        continue\n",
    "    \n",
    "    if False:\n",
    "        # visualize all tracks\n",
    "        ot = []\n",
    "        for track, d in graph[shot_id].items():\n",
    "            f=d['feature']\n",
    "            ot.append([f[0], f[1]])\n",
    "        ot = np.array(ot)\n",
    "        im = data.image_as_array(shot_id)\n",
    "        plt.imshow(im)\n",
    "        plt.plot(640+ot[:,0]*1280, 360+ot[:,1]*1280, 'ro')    \n",
    "        plt.show()\n",
    "        \n",
    "    if False:\n",
    "        # visualize all selected road points\n",
    "        ot = p1[selected, :2]\n",
    "        im = data.image_as_array(shot_id)\n",
    "        plt.imshow(im)\n",
    "        plt.plot(640+ot[:,0]*1280, 360+ot[:,1]*1280, 'ro')    \n",
    "        plt.show()\n",
    "        break\n",
    "\n",
    "    # map tracks to the 3D coordinates\n",
    "    coordinates = []\n",
    "    for tid in track_ids:\n",
    "        if tid in reconstructions[0].points:\n",
    "            coordinates.append(reconstructions[0].points[tid].coordinates)\n",
    "    coordinates = np.array(coordinates)\n",
    "    #print(coordinates)\n",
    "    threshold = np.mean(np.percentile(coordinates, 75, axis=0) - np.percentile(coordinates, 25, axis=0)) / 5\n",
    "    t2 = time.time()\n",
    "    print(\"using threshold %f (%f second)\" % (threshold, t2-t1))\n",
    "    \n",
    "    bestModel, inliers = ransac(coordinates, 200, threshold, 3, 15)\n",
    "    \n",
    "    if not(bestModel is None):\n",
    "        coordinates = coordinates[inliers, :]\n",
    "\n",
    "        # calculate the distance between plane and camera center\n",
    "        dist = bestModel.error_singles(camera_loc.reshape((1,3)))\n",
    "        print(dist)\n",
    "        dists.append(dist)\n",
    "    else:\n",
    "        dists.append(None)\n",
    "    \n",
    "    if False:\n",
    "        # fit a plane with a robust method\n",
    "        fig = plt.figure()\n",
    "        ax = fig.add_subplot(111, projection='3d')\n",
    "        ax.scatter(coordinates[:,0], coordinates[:, 1], coordinates[:, 2])\n",
    "        plt.show()\n",
    "    \n",
    "    if shot_id == \"1158.jpg\":\n",
    "        break"
   ]
  },
  {
   "cell_type": "code",
   "execution_count": null,
   "metadata": {
    "collapsed": false
   },
   "outputs": [],
   "source": [
    "a=np.array(dists)\n",
    "a=a.reshape((-1))"
   ]
  },
  {
   "cell_type": "code",
   "execution_count": null,
   "metadata": {
    "collapsed": false
   },
   "outputs": [],
   "source": [
    "#plt.plot(np.log(a))\n",
    "plt.figure()\n",
    "plt.plot(a)"
   ]
  },
  {
   "cell_type": "code",
   "execution_count": null,
   "metadata": {
    "collapsed": false
   },
   "outputs": [],
   "source": [
    "import pickle\n",
    "camera_heights = np.array(dists)\n",
    "camera_heights = camera_heights.reshape((-1))\n",
    "fname = os.path.join(args['dataset'], \"raw_estimated_scale.pkl\")\n",
    "with open(fname, \"w\") as f:\n",
    "    pickle.dump(camera_heights, f)"
   ]
  },
  {
   "cell_type": "code",
   "execution_count": null,
   "metadata": {
    "collapsed": false,
    "scrolled": false
   },
   "outputs": [],
   "source": [
    "t=pickle.load(open(fname, \"r\"))\n",
    "plt.plot(t)"
   ]
  },
  {
   "cell_type": "code",
   "execution_count": null,
   "metadata": {
    "collapsed": false
   },
   "outputs": [],
   "source": [
    "from statsmodels.nonparametric.smoothers_lowess import lowess\n",
    "filtered = lowess(t, range(len(t)), is_sorted=True, frac=0.055, it=0)\n",
    "plt.plot(filtered[:,0], filtered[:,1], 'b')"
   ]
  }
 ],
 "metadata": {
  "anaconda-cloud": {},
  "kernelspec": {
   "display_name": "Python [py27]",
   "language": "python",
   "name": "Python [py27]"
  },
  "language_info": {
   "codemirror_mode": {
    "name": "ipython",
    "version": 2
   },
   "file_extension": ".py",
   "mimetype": "text/x-python",
   "name": "python",
   "nbconvert_exporter": "python",
   "pygments_lexer": "ipython2",
   "version": "2.7.13"
  }
 },
 "nbformat": 4,
 "nbformat_minor": 0
}
