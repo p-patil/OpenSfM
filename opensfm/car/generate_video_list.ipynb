{
 "cells": [
  {
   "cell_type": "code",
   "execution_count": 17,
   "metadata": {
    "collapsed": false
   },
   "outputs": [],
   "source": [
    "import numpy as np\n",
    "import os, shutil, json, datetime\n",
    "\n",
    "\n",
    "def is_day(full_path):\n",
    "    head, fname = os.path.split(full_path)\n",
    "    json_path = os.path.join(head, \"ride.json\")\n",
    "    \n",
    "    # read out the json file\n",
    "    with open(json_path) as data_file:\n",
    "        data = json.load(data_file)\n",
    "\n",
    "    # find the segment's info\n",
    "    the_seg = [x for x in data[\"segments\"] if x[\"filename\"]==fname]\n",
    "    assert(len(the_seg) == 1)\n",
    "    seg = the_seg[0]\n",
    "\n",
    "    # record the time and location\n",
    "    time_interval = (seg[\"startTime\"]/1000, seg[\"endTime\"]/1000)\n",
    "    time_interval = [datetime.datetime.fromtimestamp(x) for x in time_interval]\n",
    "    start = time_interval[0]\n",
    "    if 6 < start.time().hour < 17:\n",
    "        return True\n",
    "    else:\n",
    "        return False\n",
    "\n",
    "full_video_list_fname = \"/data/nx-bdd-20160929/video_filtered_index_38_60_sec.txt\"\n",
    "tfrecord_path = \"/data/nx-bdd-20160929/tfrecord_fix_speed/train/\"\n",
    "num_videos = 100\n",
    "output_path = \"/data/yang/data/opensfm\"\n",
    "\n",
    "with open(full_video_list_fname, \"r\") as f:\n",
    "    full_video_list = f.readlines()\n",
    "    \n",
    "name2path = {}\n",
    "for path in full_video_list:\n",
    "    path = path.strip()\n",
    "    head, tail = os.path.split(path)\n",
    "    name2path[tail] = path\n",
    "\n",
    "# get the list of files in \"/data/nx-bdd-20160929/tfrecord_fix_speed\"\n",
    "ivideo = 0\n",
    "for file in os.listdir(tfrecord_path):\n",
    "    video_hash = file.split(\".\")[0]\n",
    "    video_name = video_hash + \".mov\"\n",
    "    full_path = name2path[video_name]\n",
    "    \n",
    "    if not is_day(full_path):\n",
    "        continue\n",
    "    \n",
    "    # copy the video & ride.json to the opensfm directory\n",
    "    target_dir = os.path.join(output_path, video_hash)\n",
    "    if not os.path.exists(target_dir):\n",
    "        os.makedirs(target_dir)\n",
    "    target_video = os.path.join(target_dir, video_name)\n",
    "    if not os.path.exists(target_video):\n",
    "        shutil.copyfile(full_path, target_video)\n",
    "    head, tail = os.path.split(full_path)\n",
    "    shutil.copyfile(os.path.join(head, \"ride.json\"),\n",
    "                    os.path.join(target_dir, \"ride.json\"))\n",
    "    \n",
    "    ivideo += 1\n",
    "    if ivideo == num_videos:\n",
    "        break"
   ]
  }
 ],
 "metadata": {
  "kernelspec": {
   "display_name": "Python 2",
   "language": "python",
   "name": "python2"
  },
  "language_info": {
   "codemirror_mode": {
    "name": "ipython",
    "version": 2
   },
   "file_extension": ".py",
   "mimetype": "text/x-python",
   "name": "python",
   "nbconvert_exporter": "python",
   "pygments_lexer": "ipython2",
   "version": "2.7.12"
  }
 },
 "nbformat": 4,
 "nbformat_minor": 1
}
