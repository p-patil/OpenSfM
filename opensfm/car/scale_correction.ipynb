{
 "cells": [
  {
   "cell_type": "code",
   "execution_count": 2,
   "metadata": {
    "collapsed": true
   },
   "outputs": [],
   "source": [
    "import numpy as np\n",
    "import os, sys, glob, cv2\n",
    "import matplotlib.pyplot as plt\n",
    "import pandas\n",
    "import networkx as nx"
   ]
  },
  {
   "cell_type": "code",
   "execution_count": 3,
   "metadata": {
    "collapsed": true
   },
   "outputs": [],
   "source": [
    "def load_tracks_graph_init(data_path, filename=None):\n",
    "    \"\"\"Return graph (networkx data structure) of tracks\"\"\"\n",
    "    \n",
    "    def tracks_graph_file(data_path, filename=None):\n",
    "        \"\"\"Return path of tracks file\"\"\"\n",
    "        return os.path.join(data_path, filename or 'tracks.csv')\n",
    "    \n",
    "    with open(tracks_graph_file(data_path, filename)) as fin:\n",
    "        return load_tracks_graph(fin)\n",
    "def load_tracks_graph(fileobj):\n",
    "    g = nx.Graph()\n",
    "    \n",
    "    for line in fileobj:\n",
    "        image, track, observation, x, y, R, G, B = line.split('\\t')\n",
    "        \n",
    "        g.add_node(image, bipartite=0)\n",
    "        g.add_node(track, bipartite=1)\n",
    "        g.add_edge(\n",
    "            image, track,\n",
    "            feature=(float(x), float(y)),\n",
    "            feature_id=int(observation),\n",
    "            feature_color=(float(R), float(G), float(B)))\n",
    "    return g"
   ]
  },
  {
   "cell_type": "code",
   "execution_count": 4,
   "metadata": {
    "collapsed": true
   },
   "outputs": [],
   "source": [
    "def tracks_and_images(graph):\n",
    "    \"\"\"List of tracks and images in the graph.\"\"\"\n",
    "    tracks, images = [], []\n",
    "    for n in graph.nodes(data=True):\n",
    "        if n[1]['bipartite'] == 0:\n",
    "            images.append(n[0])\n",
    "        else:\n",
    "            tracks.append(n[0])\n",
    "    return tracks, images"
   ]
  },
  {
   "cell_type": "code",
   "execution_count": 5,
   "metadata": {
    "collapsed": true
   },
   "outputs": [],
   "source": [
    "def read_image_mask(mask_path, image_name):\n",
    "    name = image_name.split('.')[0]+'.png'\n",
    "    return cv2.imread(os.path.join(mask_path, name))"
   ]
  },
  {
   "cell_type": "code",
   "execution_count": 6,
   "metadata": {
    "collapsed": false
   },
   "outputs": [],
   "source": [
    "def _in_mask(loc,mask,width=1280, height=720):\n",
    "    cent_w = width/2\n",
    "    cent_h = height/2\n",
    "    hori = cent_w + loc[0]*width\n",
    "    vert = cent_h + loc[1]*height\n",
    "    coord = [int(vert), int(hori)]\n",
    "    return mask[int(vert), int(hori)] != 0"
   ]
  },
  {
   "cell_type": "code",
   "execution_count": 8,
   "metadata": {
    "collapsed": false
   },
   "outputs": [],
   "source": [
    "if __name__ == '__main__':\n",
    "    data_path = '../../data/47fa6807-46b4-4121-848b-beb291cc2d60/'\n",
    "    mask_path = '../../data/47fa6807-46b4-4121-848b-beb291cc2d60/masks/'\n",
    "    if True:\n",
    "        g = load_tracks_graph_init(data_path)\n",
    "        tracks, images = tracks_and_images(g)\n",
    "    for im in images:\n",
    "        msk = read_image_mask(mask_path,im)\n",
    "        track_item = g[im]\n",
    "        for t in track_item:\n",
    "            loc = track_item[t]['feature']\n",
    "            #print(loc)\n",
    "            in_mask = _in_mask(loc,msk)\n",
    "            \n",
    "        break\n",
    "        \n",
    "        "
   ]
  },
  {
   "cell_type": "code",
   "execution_count": null,
   "metadata": {
    "collapsed": false
   },
   "outputs": [],
   "source": [
    "print(sorted(images))"
   ]
  },
  {
   "cell_type": "code",
   "execution_count": 9,
   "metadata": {
    "collapsed": false
   },
   "outputs": [
    {
     "name": "stdout",
     "output_type": "stream",
     "text": [
      "(0.41438, -0.256484)\n"
     ]
    }
   ],
   "source": [
    "print(loc)"
   ]
  }
 ],
 "metadata": {
  "anaconda-cloud": {},
  "kernelspec": {
   "display_name": "Python [py27]",
   "language": "python",
   "name": "Python [py27]"
  },
  "language_info": {
   "codemirror_mode": {
    "name": "ipython",
    "version": 2
   },
   "file_extension": ".py",
   "mimetype": "text/x-python",
   "name": "python",
   "nbconvert_exporter": "python",
   "pygments_lexer": "ipython2",
   "version": "2.7.13"
  }
 },
 "nbformat": 4,
 "nbformat_minor": 1
}
