{
 "cells": [
  {
   "cell_type": "code",
   "execution_count": null,
   "metadata": {
    "collapsed": false
   },
   "outputs": [],
   "source": [
    "\n",
    "\n",
    "from PIL import Image\n",
    "from PIL.ExifTags import TAGS\n",
    "import sys\n",
    "sys.path.append(\"../../\")\n",
    "from opensfm.pexif import JpegFile\n",
    "import numpy as np\n",
    "\n",
    "base = \"/home/yang/bak/sample.jpg\"\n",
    "\n",
    "def get_exif(fn):\n",
    "    ret = {}\n",
    "    i = Image.open(fn)\n",
    "    info = i._getexif()\n",
    "    for tag, value in info.items():\n",
    "        decoded = TAGS.get(tag, tag)\n",
    "        ret[decoded] = value\n",
    "    return ret\n",
    "\n",
    "ret=get_exif(base)\n",
    "ret['GPSInfo']\n",
    "\n",
    "ef = JpegFile.fromFile(base)\n",
    "ef.set_geo(56, 67)\n",
    "ef.get_geo()\n",
    "ef.writeFile(base)"
   ]
  },
  {
   "cell_type": "code",
   "execution_count": null,
   "metadata": {
    "collapsed": false,
    "scrolled": true
   },
   "outputs": [],
   "source": [
    "# test the gps reading and interpolation\n",
    "#! more ../../opensfm/car/parse_ride_json.py\n",
    "from opensfm.car import parse_ride_json\n",
    "reload(parse_ride_json)\n",
    "%matplotlib inline\n",
    "\n",
    "res = parse_ride_json.get_gps(\"../../data/47fa6807-46b4-4121-848b-beb291cc2d60/ride.json\", \n",
    "                              \"47fa6807-46b4-4121-848b-beb291cc2d60\" + \".mov\")\n",
    "locs = np.array([res['latitude'], res['longitude'] ]).T\n",
    "parse_ride_json.visLoc(locs)"
   ]
  },
  {
   "cell_type": "code",
   "execution_count": null,
   "metadata": {
    "collapsed": false,
    "scrolled": false
   },
   "outputs": [],
   "source": [
    "interp = parse_ride_json.get_interp_lat_lon(res, 30)\n",
    "parse_ride_json.visLoc(interp)"
   ]
  },
  {
   "cell_type": "code",
   "execution_count": null,
   "metadata": {
    "collapsed": false
   },
   "outputs": [],
   "source": [
    "print(interp[747,:])"
   ]
  },
  {
   "cell_type": "code",
   "execution_count": 1,
   "metadata": {
    "collapsed": false
   },
   "outputs": [],
   "source": [
    "\n",
    "import sys\n",
    "sys.path.append(\"../../\")\n",
    "import matplotlib as mpl\n",
    "mpl.use('Agg')\n",
    "from opensfm.car import parse_ride_json\n",
    "\n",
    "json_path = \"/home/yang/bak/ride.json\"\n",
    "video_name = \"65303e02-d177-4fc1-acc7-1ff8aa4d8193.mov\"\n",
    "\n",
    "parse_ride_json.generate_gps_figure(json_path, video_name, \"/home/yang/bak/\")"
   ]
  }
 ],
 "metadata": {
  "kernelspec": {
   "display_name": "Python 2",
   "language": "python",
   "name": "python2"
  },
  "language_info": {
   "codemirror_mode": {
    "name": "ipython",
    "version": 2
   },
   "file_extension": ".py",
   "mimetype": "text/x-python",
   "name": "python",
   "nbconvert_exporter": "python",
   "pygments_lexer": "ipython2",
   "version": "2.7.13"
  }
 },
 "nbformat": 4,
 "nbformat_minor": 0
}
