{
 "cells": [
  {
   "cell_type": "code",
   "execution_count": 31,
   "metadata": {
    "collapsed": false
   },
   "outputs": [],
   "source": [
    "import pickle\n",
    "with open(\"../../evaluated.pkl\", \"rb\") as f:\n",
    "    results = pickle.load(f)\n",
    "    "
   ]
  },
  {
   "cell_type": "code",
   "execution_count": 32,
   "metadata": {
    "collapsed": false
   },
   "outputs": [],
   "source": [
    "import numpy as np\n",
    "\n",
    "ana={}\n",
    "for folder in results:\n",
    "    for method in results[folder]:\n",
    "        for mask in results[folder][method]:\n",
    "            method_str = method +\"_\"+ (\"mask\" if mask==\"true\" else \"nomask\")\n",
    "            if method_str not in ana:\n",
    "                ana[method_str]={}\n",
    "            one_res = results[folder][method][mask]\n",
    "            if isinstance(one_res, str):\n",
    "                if one_res in ana[method_str]:\n",
    "                    ana[method_str][one_res] += 1\n",
    "                else:\n",
    "                    ana[method_str][one_res] = 1\n",
    "            else:\n",
    "                if \"score\" in ana[method_str]:\n",
    "                    ana[method_str][\"score\"].append(one_res)\n",
    "                else:\n",
    "                    ana[method_str][\"score\"] = [one_res]\n",
    "                ana[method_str][\"ave\"] = np.mean(np.abs(ana[method_str][\"score\"]), axis=0)\n",
    "                ana[method_str][\"sample_size\"]=len(ana[method_str][\"score\"])\n",
    "\n",
    "for method in ana:\n",
    "    ana[method][\"score\"]=None\n",
    "    pass"
   ]
  },
  {
   "cell_type": "code",
   "execution_count": 33,
   "metadata": {
    "collapsed": false
   },
   "outputs": [
    {
     "data": {
      "text/plain": [
       "{'dso_mask': {'ave': array([  1.21891412e+02,   5.50429488e+00,   4.25116244e+04]),\n",
       "  'pose_not_available': 22,\n",
       "  'sample_size': 73,\n",
       "  'score': None,\n",
       "  'too_few_points': 5},\n",
       " 'dso_nomask': {'ave': array([  1.44204983e+02,   6.12338987e+00,   2.03299649e+04]),\n",
       "  'pose_not_available': 22,\n",
       "  'sample_size': 71,\n",
       "  'score': None,\n",
       "  'too_few_points': 7},\n",
       " 'opensfm_mask': {'ave': array([  7.37530865e+01,   2.41639214e+00,   1.54399629e+04]),\n",
       "  'bad_index': 18,\n",
       "  'not_generated': 10,\n",
       "  'sample_size': 72,\n",
       "  'score': None},\n",
       " 'opensfm_nomask': {'ave': array([  6.99503510e+01,   3.11430205e+00,   1.82515590e+07]),\n",
       "  'bad_index': 8,\n",
       "  'not_generated': 46,\n",
       "  'sample_size': 46,\n",
       "  'score': None},\n",
       " 'orb_mask': {'ave': array([  38.72232246,    1.37098995,  462.24376999]),\n",
       "  'pose_not_available': 15,\n",
       "  'sample_size': 77,\n",
       "  'score': None,\n",
       "  'too_few_points': 8},\n",
       " 'orb_nomask': {'ave': array([  29.71661057,    2.2568305 ,  430.7456553 ]),\n",
       "  'pose_not_available': 14,\n",
       "  'sample_size': 78,\n",
       "  'score': None,\n",
       "  'too_few_points': 8}}"
      ]
     },
     "execution_count": 33,
     "metadata": {},
     "output_type": "execute_result"
    }
   ],
   "source": [
    "\n",
    "ana"
   ]
  }
 ],
 "metadata": {
  "anaconda-cloud": {},
  "kernelspec": {
   "display_name": "Python [default]",
   "language": "python",
   "name": "python2"
  },
  "language_info": {
   "codemirror_mode": {
    "name": "ipython",
    "version": 2
   },
   "file_extension": ".py",
   "mimetype": "text/x-python",
   "name": "python",
   "nbconvert_exporter": "python",
   "pygments_lexer": "ipython2",
   "version": "2.7.12"
  }
 },
 "nbformat": 4,
 "nbformat_minor": 1
}
